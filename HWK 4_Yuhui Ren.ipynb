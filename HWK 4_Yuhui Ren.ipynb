{
 "cells": [
  {
   "cell_type": "markdown",
   "metadata": {},
   "source": [
    "## HWK 4 Yuhui Ren"
   ]
  },
  {
   "cell_type": "markdown",
   "metadata": {},
   "source": [
    "__Step 1:__<br>Use our “titanic” dataset in homework #3, and split data in the same way you did in homework #3 as training and test sets"
   ]
  },
  {
   "cell_type": "code",
   "execution_count": 5,
   "metadata": {},
   "outputs": [],
   "source": [
    "import pandas as pd\n",
    "import numpy as np\n",
    "from sklearn.model_selection import train_test_split"
   ]
  },
  {
   "cell_type": "code",
   "execution_count": 73,
   "metadata": {},
   "outputs": [
    {
     "data": {
      "text/html": [
       "<div>\n",
       "<style scoped>\n",
       "    .dataframe tbody tr th:only-of-type {\n",
       "        vertical-align: middle;\n",
       "    }\n",
       "\n",
       "    .dataframe tbody tr th {\n",
       "        vertical-align: top;\n",
       "    }\n",
       "\n",
       "    .dataframe thead th {\n",
       "        text-align: right;\n",
       "    }\n",
       "</style>\n",
       "<table border=\"1\" class=\"dataframe\">\n",
       "  <thead>\n",
       "    <tr style=\"text-align: right;\">\n",
       "      <th></th>\n",
       "      <th>pclass</th>\n",
       "      <th>sex</th>\n",
       "      <th>age</th>\n",
       "      <th>sibsp</th>\n",
       "      <th>survived</th>\n",
       "    </tr>\n",
       "  </thead>\n",
       "  <tbody>\n",
       "    <tr>\n",
       "      <th>0</th>\n",
       "      <td>1</td>\n",
       "      <td>2</td>\n",
       "      <td>29.0000</td>\n",
       "      <td>0</td>\n",
       "      <td>1</td>\n",
       "    </tr>\n",
       "    <tr>\n",
       "      <th>1</th>\n",
       "      <td>1</td>\n",
       "      <td>1</td>\n",
       "      <td>0.9167</td>\n",
       "      <td>1</td>\n",
       "      <td>1</td>\n",
       "    </tr>\n",
       "    <tr>\n",
       "      <th>2</th>\n",
       "      <td>1</td>\n",
       "      <td>2</td>\n",
       "      <td>2.0000</td>\n",
       "      <td>1</td>\n",
       "      <td>0</td>\n",
       "    </tr>\n",
       "    <tr>\n",
       "      <th>3</th>\n",
       "      <td>1</td>\n",
       "      <td>1</td>\n",
       "      <td>30.0000</td>\n",
       "      <td>1</td>\n",
       "      <td>0</td>\n",
       "    </tr>\n",
       "    <tr>\n",
       "      <th>4</th>\n",
       "      <td>1</td>\n",
       "      <td>2</td>\n",
       "      <td>25.0000</td>\n",
       "      <td>1</td>\n",
       "      <td>0</td>\n",
       "    </tr>\n",
       "  </tbody>\n",
       "</table>\n",
       "</div>"
      ],
      "text/plain": [
       "   pclass  sex      age  sibsp  survived\n",
       "0       1    2  29.0000      0         1\n",
       "1       1    1   0.9167      1         1\n",
       "2       1    2   2.0000      1         0\n",
       "3       1    1  30.0000      1         0\n",
       "4       1    2  25.0000      1         0"
      ]
     },
     "execution_count": 73,
     "metadata": {},
     "output_type": "execute_result"
    }
   ],
   "source": [
    "data = pd.read_csv(\"titanic.csv\")[['pclass','sex','age','sibsp','survived']]\n",
    "data.dropna(axis=0, how='any', inplace=True)    # Omit all NA examples\n",
    "data.replace({\"pclass\":{\"1st\":1, \"2nd\":2, \"3rd\":3}}, inplace=True)\n",
    "data.replace({\"sex\":{\"male\":1, \"female\":2}}, inplace=True)\n",
    "data.head()"
   ]
  },
  {
   "cell_type": "code",
   "execution_count": 59,
   "metadata": {},
   "outputs": [],
   "source": [
    "y = data[\"survived\"]\n",
    "X = data[['pclass','sex','age','sibsp']]\n",
    "X_train, X_test, y_train, y_test = train_test_split(X,y, test_size=0.2,shuffle=True)"
   ]
  },
  {
   "cell_type": "markdown",
   "metadata": {},
   "source": [
    "__Step 2:__<br>Fit a neural network using independent variables ‘pclass + sex + age + sibsp’ and dependent variable ‘survived’. <br>Omit all NA examples. Use 2 hidden layers and set the activation functions for both the hidden and output layer to be the sigmoid function. <br>Set “solver” parameter as either SGD (stochastic gradient descend) or Adam (similar to SGD but optimized performance with mini batches). <br>You can adjust parameter “alpha” for regularization (to control overfitting) and other parameters such as “learning rate” and “momentum” as needed."
   ]
  },
  {
   "cell_type": "code",
   "execution_count": 46,
   "metadata": {},
   "outputs": [],
   "source": [
    "from sklearn.neural_network import MLPClassifier"
   ]
  },
  {
   "cell_type": "code",
   "execution_count": 61,
   "metadata": {},
   "outputs": [
    {
     "data": {
      "text/plain": [
       "MLPClassifier(activation='logistic', hidden_layer_sizes=(50, 50))"
      ]
     },
     "execution_count": 61,
     "metadata": {},
     "output_type": "execute_result"
    }
   ],
   "source": [
    "# Model 1\n",
    "\n",
    "clf_1 = MLPClassifier(hidden_layer_sizes=(50,50), activation='logistic', solver='adam', alpha=0.0001)\n",
    "clf_1.fit(X_train, y_train)"
   ]
  },
  {
   "cell_type": "code",
   "execution_count": 62,
   "metadata": {},
   "outputs": [
    {
     "data": {
      "text/plain": [
       "MLPClassifier(activation='logistic', hidden_layer_sizes=(150, 150))"
      ]
     },
     "execution_count": 62,
     "metadata": {},
     "output_type": "execute_result"
    }
   ],
   "source": [
    "# Model 2\n",
    "\n",
    "clf_2 = MLPClassifier(hidden_layer_sizes=(150,150), activation='logistic', solver='adam', alpha=0.0001)\n",
    "clf_2.fit(X_train, y_train)"
   ]
  },
  {
   "cell_type": "markdown",
   "metadata": {},
   "source": [
    "__Step 3:__<br>Check the performance of the model: in-sample and out-of- sample accuracy, defined as\n",
    "<br>in-sample percent survivors correctly predicted (on training set)\n",
    "<br>in-sample percent fatalities correctly predicted (on training set)\n",
    "<br>out-of-sample percent survivors correctly predicted (on test set)\n",
    "<br>out-of-sample percent fatalities correctly predicted (on test set)\n",
    "<br>Please try two different network structures (i.e., number of neurons at each hidden layer) and show their respective accuracy."
   ]
  },
  {
   "cell_type": "code",
   "execution_count": 47,
   "metadata": {},
   "outputs": [],
   "source": [
    "from sklearn.metrics import confusion_matrix"
   ]
  },
  {
   "cell_type": "code",
   "execution_count": 63,
   "metadata": {},
   "outputs": [
    {
     "name": "stdout",
     "output_type": "stream",
     "text": [
      "in‐sample survivors accuracy (on training set):0.744\n",
      "in‐sample fatalities accuracy (on training set):0.830\n"
     ]
    }
   ],
   "source": [
    "# Model 1\n",
    "\n",
    "y_hat_train = clf_1.predict(X_train)\n",
    "tn, fp, fn, tp = confusion_matrix(y_train, y_hat_train).ravel()    # on training set\n",
    "print(\"in‐sample survivors accuracy (on training set):{:.3f}\".format(tp/(tp+fn)))\n",
    "print(\"in‐sample fatalities accuracy (on training set):{:.3f}\".format(tn/(fp+tn)))\n"
   ]
  },
  {
   "cell_type": "code",
   "execution_count": 64,
   "metadata": {},
   "outputs": [
    {
     "name": "stdout",
     "output_type": "stream",
     "text": [
      "out‐of‐sample survivors accuracy (on testing set):0.772\n",
      "out‐of‐sample fatalities accuracy (on testing set):0.870\n"
     ]
    }
   ],
   "source": [
    "# Model 1\n",
    "\n",
    "y_hat_test = clf_1.predict(X_test)\n",
    "tn, fp, fn, tp = confusion_matrix(y_test, y_hat_test).ravel()    # on testing set\n",
    "print(\"out‐of‐sample survivors accuracy (on testing set):{:.3f}\".format(tp/(tp+fn)))\n",
    "print(\"out‐of‐sample fatalities accuracy (on testing set):{:.3f}\".format(tn/(fp+tn)))"
   ]
  },
  {
   "cell_type": "code",
   "execution_count": 65,
   "metadata": {},
   "outputs": [
    {
     "name": "stdout",
     "output_type": "stream",
     "text": [
      "in‐sample survivors accuracy (on training set):0.609\n",
      "in‐sample fatalities accuracy (on training set):0.930\n"
     ]
    }
   ],
   "source": [
    "# Model 2\n",
    "\n",
    "y_hat_train = clf_2.predict(X_train)\n",
    "tn, fp, fn, tp = confusion_matrix(y_train, y_hat_train).ravel()    # on training set\n",
    "print(\"in‐sample survivors accuracy (on training set):{:.3f}\".format(tp/(tp+fn)))\n",
    "print(\"in‐sample fatalities accuracy (on training set):{:.3f}\".format(tn/(fp+tn)))"
   ]
  },
  {
   "cell_type": "code",
   "execution_count": 66,
   "metadata": {},
   "outputs": [
    {
     "name": "stdout",
     "output_type": "stream",
     "text": [
      "out‐of‐sample survivors accuracy (on testing set):0.646\n",
      "out‐of‐sample fatalities accuracy (on testing set):0.947\n"
     ]
    }
   ],
   "source": [
    "# Model 2\n",
    "\n",
    "y_hat_test = clf_2.predict(X_test)\n",
    "tn, fp, fn, tp = confusion_matrix(y_test, y_hat_test).ravel()    # on testing set\n",
    "print(\"out‐of‐sample survivors accuracy (on testing set):{:.3f}\".format(tp/(tp+fn)))\n",
    "print(\"out‐of‐sample fatalities accuracy (on testing set):{:.3f}\".format(tn/(fp+tn)))"
   ]
  },
  {
   "cell_type": "markdown",
   "metadata": {},
   "source": [
    "__Step 4:__<br>Compare the in-sample and out-of-sample accuracy (as defined in step 3) with the pruned decision tree obtained in homework #3. \n",
    "<br>You can either use a table or a figure to compare the accuracy of the two learning algorithms"
   ]
  },
  {
   "cell_type": "code",
   "execution_count": 74,
   "metadata": {},
   "outputs": [
    {
     "data": {
      "text/html": [
       "<div>\n",
       "<style scoped>\n",
       "    .dataframe tbody tr th:only-of-type {\n",
       "        vertical-align: middle;\n",
       "    }\n",
       "\n",
       "    .dataframe tbody tr th {\n",
       "        vertical-align: top;\n",
       "    }\n",
       "\n",
       "    .dataframe thead th {\n",
       "        text-align: right;\n",
       "    }\n",
       "</style>\n",
       "<table border=\"1\" class=\"dataframe\">\n",
       "  <thead>\n",
       "    <tr style=\"text-align: right;\">\n",
       "      <th></th>\n",
       "      <th>Tree_pruned</th>\n",
       "      <th>NN_small</th>\n",
       "      <th>NN_large</th>\n",
       "    </tr>\n",
       "  </thead>\n",
       "  <tbody>\n",
       "    <tr>\n",
       "      <th>in‐sample survivors accuracy</th>\n",
       "      <td>0.756</td>\n",
       "      <td>0.744</td>\n",
       "      <td>0.609</td>\n",
       "    </tr>\n",
       "    <tr>\n",
       "      <th>in‐sample fatalities accuracy</th>\n",
       "      <td>0.845</td>\n",
       "      <td>0.830</td>\n",
       "      <td>0.930</td>\n",
       "    </tr>\n",
       "    <tr>\n",
       "      <th>out‐of‐sample survivors accuracy</th>\n",
       "      <td>0.641</td>\n",
       "      <td>0.772</td>\n",
       "      <td>0.646</td>\n",
       "    </tr>\n",
       "    <tr>\n",
       "      <th>out‐of‐sample fatalities accuracy</th>\n",
       "      <td>0.799</td>\n",
       "      <td>0.870</td>\n",
       "      <td>0.947</td>\n",
       "    </tr>\n",
       "  </tbody>\n",
       "</table>\n",
       "</div>"
      ],
      "text/plain": [
       "                                   Tree_pruned  NN_small  NN_large\n",
       "in‐sample survivors accuracy             0.756     0.744     0.609\n",
       "in‐sample fatalities accuracy            0.845     0.830     0.930\n",
       "out‐of‐sample survivors accuracy         0.641     0.772     0.646\n",
       "out‐of‐sample fatalities accuracy        0.799     0.870     0.947"
      ]
     },
     "execution_count": 74,
     "metadata": {},
     "output_type": "execute_result"
    }
   ],
   "source": [
    "df = pd.DataFrame({'Tree_pruned':[0.756,0.845,0.641,0.799],\\\n",
    "                  'NN_small':[0.744, 0.830, 0.772, 0.870], \\\n",
    "                   'NN_large':[0.609, 0.930, 0.646, 0.947]},\\\n",
    "                 index=['in‐sample survivors accuracy','in‐sample fatalities accuracy',\\\n",
    "                        'out‐of‐sample survivors accuracy','out‐of‐sample fatalities accuracy'])\n",
    "df"
   ]
  },
  {
   "cell_type": "markdown",
   "metadata": {},
   "source": [
    "For both in‐sample fatalities accuracy and out‐of‐sample fatalities accuracy, neural network (larger one) has the highest accuray, which are 0.930 and 0.947. <br>For in‐sample survivors accuracy, the pruned decision gets the highest accuracy which is 0.756, but in‐sample survivors accuracy from the smaller neural network is 0.744, which is only 1.2% lower, I think this does not lose too much. <br>For out‐of‐sample survivors accuracy, the smaller neural network get the highest accuracy, which is 0.772. <br>To conclude, I think in this case neural network outperform decision tree."
   ]
  }
 ],
 "metadata": {
  "kernelspec": {
   "display_name": "Python 3",
   "language": "python",
   "name": "python3"
  },
  "language_info": {
   "codemirror_mode": {
    "name": "ipython",
    "version": 3
   },
   "file_extension": ".py",
   "mimetype": "text/x-python",
   "name": "python",
   "nbconvert_exporter": "python",
   "pygments_lexer": "ipython3",
   "version": "3.8.5"
  }
 },
 "nbformat": 4,
 "nbformat_minor": 4
}
