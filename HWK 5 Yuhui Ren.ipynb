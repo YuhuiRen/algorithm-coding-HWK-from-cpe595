{
 "cells": [
  {
   "cell_type": "markdown",
   "metadata": {},
   "source": [
    "## CPE 695 HWK 5 Programming Problem  --- Yuhui Ren"
   ]
  },
  {
   "cell_type": "markdown",
   "metadata": {},
   "source": [
    "#### Design a genetic algorithm to solve the polynomial fitting problem that we did in HWK 1."
   ]
  },
  {
   "cell_type": "markdown",
   "metadata": {},
   "source": [
    "Lecture 11 P35 gives the pseudo-code for a mutation-only algorithm. In this assignment you need to implement a genetic algorithm using BOTH mutation AND crossover operations. Please refer to pages 13-16 of Lecture 11 for arithmetic crossover operations. You need to decide a mutation rate and a crossover rate.<br>"
   ]
  },
  {
   "cell_type": "code",
   "execution_count": 1,
   "metadata": {},
   "outputs": [],
   "source": [
    "import numpy as np\n",
    "import pandas as pd\n",
    "import random"
   ]
  },
  {
   "cell_type": "code",
   "execution_count": 3,
   "metadata": {},
   "outputs": [],
   "source": [
    "# generate x, y\n",
    "noise_scale = 100\n",
    "number_of_samples = 50\n",
    "x = 25*(np.random.rand(number_of_samples, 1) - 0.8)\n",
    "y = 5 * x + 20 * x**2 + 1 * x**3 + noise_scale*np.random.randn(number_of_samples, 1)\n",
    "\n",
    "# result from HWK 1\n",
    "polynomial = np.polyfit(x[:,0], y[:,0], 3)  # Here, 3 is chosen for m    # the coefficients\n",
    "y_polynomial = np.poly1d(polynomial)   # the function equation\n",
    "y_polynomial\n",
    "\n",
    "x = x.reshape(50,).tolist() # convert x to list\n",
    "y = y.reshape(50,).tolist() # convert y to list"
   ]
  },
  {
   "cell_type": "code",
   "execution_count": 4,
   "metadata": {},
   "outputs": [],
   "source": [
    "def create_100_arrays():     # create 100 6-element arrays\n",
    "    arrays_100 = []\n",
    "    for i in range(100):\n",
    "        array = np.random.randint(0,9, size=6)\n",
    "        arrays_100.append(array)\n",
    "    return arrays_100"
   ]
  },
  {
   "cell_type": "code",
   "execution_count": 5,
   "metadata": {},
   "outputs": [],
   "source": [
    "def compute_badness(x, y, array):       # define a function to compute badness  \n",
    "    y_hat = array[0]*pow(x,5) + array[1]*pow(x,4) + array[2]*pow(x,3) + array[3]*pow(x,2) + array[4]*x + array[5]\n",
    "    badness = (y - y_hat)**2\n",
    "    \n",
    "    return badness"
   ]
  },
  {
   "cell_type": "code",
   "execution_count": 6,
   "metadata": {},
   "outputs": [],
   "source": [
    "def collect_100_badness(x, y, arrays):   # collect 100 badness numbers for 100 arrays\n",
    "    badness_list = []\n",
    "    for arr in arrays:\n",
    "        badness_sum = 0\n",
    "        for i in range(len(x)):\n",
    "            badness = compute_badness(x[i], y[i], arr)\n",
    "            badness_sum += badness\n",
    "        badness_list.append(badness_sum)\n",
    "    return badness_list"
   ]
  },
  {
   "cell_type": "code",
   "execution_count": 7,
   "metadata": {},
   "outputs": [],
   "source": [
    "def pick_10_best_arrays(badness_list, arrays):  # pick 10 best arrays among the 100 arrays\n",
    "    \n",
    "    arrays_updated = []   # contain 10 best arrays\n",
    "    \n",
    "    # get 10 minimum badness numbers and their corresponding indice\n",
    "    badness_idx = pd.DataFrame(badness_list, columns=['badness']).sort_values(['badness']).reset_index().iloc[0:10, :]\n",
    "    \n",
    "    indice = badness_idx['index'].values.tolist()\n",
    "    for i in indice:\n",
    "        arrays_updated.append(arrays[i])\n",
    "    \n",
    "    return arrays_updated"
   ]
  },
  {
   "cell_type": "code",
   "execution_count": 8,
   "metadata": {},
   "outputs": [],
   "source": [
    "def mutation(arrays):       # generate 90 new mutation arrays using the 10 best arrays\n",
    "    \n",
    "    new_arrays_100 = []       # contain 100 arrays, 10 best arrays and 90 generated arrays\n",
    "    \n",
    "    for arr in arrays:\n",
    "        new_arrays_100.append(arr)   # collect the old array\n",
    "        \n",
    "        for i in range(9):           # generate 9 arrays with each old array\n",
    "            idx = np.random.choice([0,1,2,3,4,5])    # index of the element to be mutated\n",
    "            m_rate = random.random()*2      # mutation rate\n",
    "            arr_new = arr.copy()\n",
    "            arr_new[idx] = arr_new[idx] * m_rate\n",
    "            new_arrays_100.append(arr_new)\n",
    "    \n",
    "    return new_arrays_100"
   ]
  },
  {
   "cell_type": "code",
   "execution_count": 9,
   "metadata": {},
   "outputs": [],
   "source": [
    "def crossover(arrays):      # reproduce offsprings from the 5 pairs of parents\n",
    "    \n",
    "    c_rate = 0.5   # crossover rate\n",
    "    arrays_mutation_list = []   # to contain 5 pairs of parents (10 best arrays) & 9*5=45 pairs of offsprings(90 arrays).\n",
    "    \n",
    "    for i in range(0,10,2):  # every 2 arrays are 1 pair of parents, 10 best arrays make 5 pair of parents\n",
    "        parent_1 = arrays[i]\n",
    "        parent_2 = arrays[i+1]\n",
    "        arrays_mutation_list.append(parent_1)\n",
    "        arrays_mutation_list.append(parent_2)\n",
    "    \n",
    "        for j in range(9):    # every pair of parents reproduce 9 pairs (18) offsprings\n",
    "            position = random.choice([0,1,2,3,4,5])   # pick a random index position for a single gene \n",
    "            child_1 = parent_1.copy()     \n",
    "            child_1[position] = parent_1[position] * c_rate + parent_2[position] * c_rate  # Single arithmetic crossover\n",
    "            child_2 = parent_2.copy()\n",
    "            child_2[position] = parent_1[position] * c_rate + parent_2[position] * c_rate  # Single arithmetic crossover\n",
    "            arrays_mutation_list.append(child_1)   \n",
    "            arrays_mutation_list.append(child_2)    \n",
    "        \n",
    "    return arrays_mutation_list  # contain 100 arrays"
   ]
  },
  {
   "cell_type": "code",
   "execution_count": 10,
   "metadata": {},
   "outputs": [],
   "source": [
    "# 500 loops for arrays' mutation and crossover\n",
    "\n",
    "count = 0\n",
    "arrays_100 = create_100_arrays()\n",
    "\n",
    "while count<500: \n",
    "    badness_100 = collect_100_badness(x, y, arrays_100)\n",
    "    arrays_10 = pick_10_best_arrays(badness_100, arrays_100)\n",
    "    arrays_100_new = mutation(arrays_10)\n",
    "    badness_100_new = collect_100_badness(x, y, arrays_100_new)\n",
    "    arrays_10_new = pick_10_best_arrays(badness_100_new, arrays_100_new)\n",
    "    arrays_100 = crossover(arrays_10_new)\n",
    "    count =  count + 1;"
   ]
  },
  {
   "cell_type": "code",
   "execution_count": 11,
   "metadata": {},
   "outputs": [],
   "source": [
    "def pick_best_array(x, y, arrays):      # find the best array among the 100 mutated arrays, i.e. the array with min badness\n",
    "    \n",
    "    badness_list = collect_100_badness(x, y, arrays)   # badness list containging 100 badness numbers for 100 arrays\n",
    "    \n",
    "    badness_min = min(badness_list)     # minimum badness, i.e. best array\n",
    "    index_min = badness_list.index(badness_min)   # find the index\n",
    "    \n",
    "    array_best = arrays[index_min]\n",
    "\n",
    "    return array_best"
   ]
  },
  {
   "cell_type": "code",
   "execution_count": 12,
   "metadata": {},
   "outputs": [],
   "source": [
    "array_best = pick_best_array(x, y, arrays_100)   # best array after 200 times mutation and crossover"
   ]
  },
  {
   "cell_type": "code",
   "execution_count": 13,
   "metadata": {},
   "outputs": [],
   "source": [
    "def generate_y_hats(x, array):\n",
    "    \n",
    "    y_hats = []\n",
    "\n",
    "    for i in range(len(x)):\n",
    "        y_hat = array[0]*pow(x[i],5) + array[1]*pow(x[i],4) + array[2]*pow(x[i],3) + array[3]*pow(x[i],2) + array[4]*x[i] + array[5]\n",
    "        y_hats.append(y_hat)\n",
    "    return y_hats"
   ]
  },
  {
   "cell_type": "code",
   "execution_count": 14,
   "metadata": {},
   "outputs": [],
   "source": [
    "y_hats = generate_y_hats(x, array_best)  # generate y using the best array"
   ]
  },
  {
   "cell_type": "markdown",
   "metadata": {},
   "source": [
    "Plot the following in one figure: 1) the original noisy data, 2) the polynomial you obtained in HWK 1, and 3) the polynomial obtained from this implementation."
   ]
  },
  {
   "cell_type": "code",
   "execution_count": 15,
   "metadata": {},
   "outputs": [
    {
     "data": {
      "image/png": "[encoded data removed]",
      "text/plain": [
       "<Figure size 432x288 with 1 Axes>"
      ]
     },
     "metadata": {},
     "output_type": "display_data"
    }
   ],
   "source": [
    "import matplotlib.pyplot as plt\n",
    "\n",
    "plt.style.use('seaborn-whitegrid')\n",
    " \n",
    "plt.plot(x, y, 'ro', label='noisy data', markersize=3)     # original data points\n",
    "plt.plot(sorted(x), y_polynomial(sorted(x)), label='polynomial(HWK1)', markersize=3)   # polynomial line from HWK 1\n",
    "plt.plot(x, y_hats, 'go', label='genetic algorithm', markersize=3)\n",
    "\n",
    "plt.legend() \n",
    "plt.title('Noisy Data vs Polynomial(HW1) vs Genetic Algorithm(HW5)')\n",
    "plt.show() "
   ]
  }
 ],
 "metadata": {
  "kernelspec": {
   "display_name": "Python 3",
   "language": "python",
   "name": "python3"
  },
  "language_info": {
   "codemirror_mode": {
    "name": "ipython",
    "version": 3
   },
   "file_extension": ".py",
   "mimetype": "text/x-python",
   "name": "python",
   "nbconvert_exporter": "python",
   "pygments_lexer": "ipython3",
   "version": "3.8.5"
  }
 },
 "nbformat": 4,
 "nbformat_minor": 4
}
